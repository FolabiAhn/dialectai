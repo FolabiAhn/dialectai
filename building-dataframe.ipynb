{
 "cells": [
  {
   "cell_type": "code",
   "execution_count": 1,
   "metadata": {},
   "outputs": [],
   "source": [
    "import os\n",
    "import numpy as np\n",
    "import pandas as pd"
   ]
  },
  {
   "cell_type": "code",
   "execution_count": 5,
   "metadata": {},
   "outputs": [],
   "source": [
    "path = \"../english-bible/\""
   ]
  },
  {
   "cell_type": "code",
   "execution_count": 6,
   "metadata": {},
   "outputs": [],
   "source": [
    "# Building a dataframe with paths and traductions\n",
    "with open(path+\"transcript.txt\", \"r\") as fic:\n",
    "    texte = fic.read()\n",
    "\n",
    "traductions = [verse.split(\"\\t\")[1] for verse in texte.split(\"\\n\")]\n",
    "paths  = [os.path.join(couple.split(\"/\")[0], couple.split(\"/\")[1]+\".wav\")\\\n",
    "         for couple in  [verse.split(\"\\t\")[0] for verse in texte.split(\"\\n\")]]\n",
    "\n",
    "paths = [os.path.join(path, x) for x in paths]\n",
    "\n",
    "DF = pd.DataFrame(paths, columns=[\"paths\"])\n",
    "\n",
    "DF[\"traductions\"] = traductions\n",
    "\n",
    "DF[\"traductions\"] = DF[\"traductions\"].apply(lambda x: x.lower())\n",
    "\n",
    "# Saving\n",
    "DF.to_csv(\"transcript.csv\", index = False)\n"
   ]
  },
  {
   "cell_type": "code",
   "execution_count": 7,
   "metadata": {},
   "outputs": [
    {
     "data": {
      "text/html": [
       "<div>\n",
       "<style scoped>\n",
       "    .dataframe tbody tr th:only-of-type {\n",
       "        vertical-align: middle;\n",
       "    }\n",
       "\n",
       "    .dataframe tbody tr th {\n",
       "        vertical-align: top;\n",
       "    }\n",
       "\n",
       "    .dataframe thead th {\n",
       "        text-align: right;\n",
       "    }\n",
       "</style>\n",
       "<table border=\"1\" class=\"dataframe\">\n",
       "  <thead>\n",
       "    <tr style=\"text-align: right;\">\n",
       "      <th></th>\n",
       "      <th>paths</th>\n",
       "      <th>traductions</th>\n",
       "    </tr>\n",
       "  </thead>\n",
       "  <tbody>\n",
       "    <tr>\n",
       "      <th>0</th>\n",
       "      <td>../english-bible/Genesis/Genesis_1-1.wav</td>\n",
       "      <td>in the beginning god created the heavens and t...</td>\n",
       "    </tr>\n",
       "    <tr>\n",
       "      <th>1</th>\n",
       "      <td>../english-bible/Genesis/Genesis_1-2.wav</td>\n",
       "      <td>now the earth was formless and empty. darkness...</td>\n",
       "    </tr>\n",
       "    <tr>\n",
       "      <th>2</th>\n",
       "      <td>../english-bible/Genesis/Genesis_1-3.wav</td>\n",
       "      <td>god said, \"let there be light,\" and there was ...</td>\n",
       "    </tr>\n",
       "    <tr>\n",
       "      <th>3</th>\n",
       "      <td>../english-bible/Genesis/Genesis_1-4.wav</td>\n",
       "      <td>god saw the light, and saw that it was good. g...</td>\n",
       "    </tr>\n",
       "    <tr>\n",
       "      <th>4</th>\n",
       "      <td>../english-bible/Genesis/Genesis_1-5.wav</td>\n",
       "      <td>god called the light day, and the darkness he ...</td>\n",
       "    </tr>\n",
       "  </tbody>\n",
       "</table>\n",
       "</div>"
      ],
      "text/plain": [
       "                                      paths  \\\n",
       "0  ../english-bible/Genesis/Genesis_1-1.wav   \n",
       "1  ../english-bible/Genesis/Genesis_1-2.wav   \n",
       "2  ../english-bible/Genesis/Genesis_1-3.wav   \n",
       "3  ../english-bible/Genesis/Genesis_1-4.wav   \n",
       "4  ../english-bible/Genesis/Genesis_1-5.wav   \n",
       "\n",
       "                                         traductions  \n",
       "0  in the beginning god created the heavens and t...  \n",
       "1  now the earth was formless and empty. darkness...  \n",
       "2  god said, \"let there be light,\" and there was ...  \n",
       "3  god saw the light, and saw that it was good. g...  \n",
       "4  god called the light day, and the darkness he ...  "
      ]
     },
     "execution_count": 7,
     "metadata": {},
     "output_type": "execute_result"
    }
   ],
   "source": [
    "DF.head(5)"
   ]
  },
  {
   "cell_type": "code",
   "execution_count": null,
   "metadata": {},
   "outputs": [],
   "source": []
  }
 ],
 "metadata": {
  "kernelspec": {
   "display_name": "Python 3",
   "language": "python",
   "name": "python3"
  },
  "language_info": {
   "codemirror_mode": {
    "name": "ipython",
    "version": 3
   },
   "file_extension": ".py",
   "mimetype": "text/x-python",
   "name": "python",
   "nbconvert_exporter": "python",
   "pygments_lexer": "ipython3",
   "version": "3.6.9"
  }
 },
 "nbformat": 4,
 "nbformat_minor": 2
}
