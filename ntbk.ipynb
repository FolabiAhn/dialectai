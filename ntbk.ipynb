{
 "cells": [
  {
   "cell_type": "code",
   "execution_count": 1,
   "metadata": {},
   "outputs": [],
   "source": [
    "%load_ext autoreload\n",
    "%autoreload 2"
   ]
  },
  {
   "cell_type": "code",
   "execution_count": 2,
   "metadata": {},
   "outputs": [],
   "source": [
    "import os\n",
    "import csv\n",
    "import time\n",
    "import librosa\n",
    "\n",
    "import warnings\n",
    "import pandas as pd\n",
    "from models import *\n",
    "from utils import *\n",
    "import torch\n",
    "import torchaudio\n",
    "import numpy as np\n",
    "import torch.optim as optim\n",
    "\n",
    "warnings.filterwarnings('ignore')\n",
    "device = torch.device(\"cuda\" if torch.cuda.is_available() else \"cpu\")"
   ]
  },
  {
   "cell_type": "code",
   "execution_count": 3,
   "metadata": {},
   "outputs": [
    {
     "name": "stdout",
     "output_type": "stream",
     "text": [
      " ===== They are 800 transcriptions in the dataset. ===== \n",
      "CPU times: user 521 ms, sys: 76.5 ms, total: 598 ms\n",
      "Wall time: 597 ms\n"
     ]
    }
   ],
   "source": [
    "%%time \n",
    "\n",
    "limit = 80\n",
    "params = {'batch_size': 20,\n",
    "          'shuffle': True,\n",
    "          'num_workers': 10,\n",
    "          'drop_last': True}\n",
    "\n",
    "\n",
    "tokenizer = tokenizer_librispeech(limit=800)\n",
    "training_set = LibriSpeechDataset(limit=limit, tokenizer=tokenizer, n_frames=600)\n",
    "my_dataloader = data.DataLoader(training_set, **params)\n",
    "\n",
    "steps_per_epoch = len(training_set) // params['batch_size']\n",
    "\n",
    "vocab_tar_size = len(tokenizer.word_index)\n",
    "embedding_dim_target = 100"
   ]
  },
  {
   "cell_type": "code",
   "execution_count": null,
   "metadata": {},
   "outputs": [],
   "source": [
    "# 'bahdanau_basic'\n",
    "# 'bahdanau_audio'\n",
    "# 'luong_dot'\n",
    "# 'luong_concat'\n",
    "# 'luong_general'\n",
    "# 'super_head'"
   ]
  },
  {
   "cell_type": "code",
   "execution_count": 17,
   "metadata": {},
   "outputs": [],
   "source": [
    "encoder = EncoderCONV2DRNN(batch_size=params['batch_size'], device=device, hidden_size=64).to(device)\n",
    "decoder = DecoderATTRNN1(vocab_tar_size, embedding_dim_target, dec_units=64, batch_sz=params['batch_size'], \n",
    "                         hidden_size=64, method='bahdanau_basic').to(device)\n",
    "\n",
    "encoder_optimizer = optim.Adam(encoder.parameters())\n",
    "decoder_optimizer = optim.Adam(decoder.parameters())\n",
    "\n",
    "criterion = nn.NLLLoss()"
   ]
  },
  {
   "cell_type": "code",
   "execution_count": 18,
   "metadata": {},
   "outputs": [
    {
     "name": "stdout",
     "output_type": "stream",
     "text": [
      " ====== ====== ====== ====== ====== ======\n",
      "      The model has 1809955 parameters\n",
      " ====== ====== ====== ====== ====== ======\n",
      "\n",
      "\n",
      "Epoch 1: 100%|████████████████████| 4/4 [00:19<00:00,  4.87s/it, Loss 8.1813]\n",
      "\n",
      "Time taken for the training 0.0054092 hours\n",
      "\n"
     ]
    }
   ],
   "source": [
    "# Train the model\n",
    "global_trainer(1, my_dataloader, encoder, decoder, encoder_optimizer, decoder_optimizer,\n",
    "                                    criterion, device, params['batch_size'], tokenizer )"
   ]
  },
  {
   "cell_type": "code",
   "execution_count": 19,
   "metadata": {},
   "outputs": [
    {
     "name": "stdout",
     "output_type": "stream",
     "text": [
      "Input: ['<start>', 'what', 'did', 'you', 'do', 'next', 'i', 'awakened', 'with', 'a', 'sudden', 'start', 'just', 'before', 'six', \"o'clock\", 'i', 'had', 'not', 'set', 'an', 'alarm', 'though', 'i', 'wanted', 'to', 'get', 'up', 'early', 'to', 'do', 'a', 'little', 'repair', 'job', 'i', 'had', 'promised', 'for', 'early']\n",
      "\n",
      "\n",
      "Predicted translation: ['<padding>', '<padding>', '<padding>', '<padding>', '<padding>', '<padding>', '<padding>', '<padding>', '<padding>', '<padding>', '<padding>', '<padding>', '<padding>', '<padding>', '<padding>', '<padding>', '<padding>', '<padding>', '<padding>', '<padding>', '<padding>', '<padding>', '<padding>', '<padding>', '<padding>', '<padding>', '<padding>', '<padding>', '<padding>', '<padding>', '<padding>', '<padding>', '<padding>', '<padding>', '<padding>', '<padding>', '<padding>', '<padding>', '<padding>', '<padding>']\n",
      "\n",
      "\n",
      "Bleu score: 0\n"
     ]
    }
   ],
   "source": [
    "mfccs, references = training_set[1]\n",
    "references = [tokenizer.index_word[ind] for ind in references.numpy()]\n",
    "evaluate(mfccs.unsqueeze(0), references, 40, encoder, decoder, targ_lang=tokenizer, \n",
    "          device=device)"
   ]
  },
  {
   "cell_type": "code",
   "execution_count": null,
   "metadata": {},
   "outputs": [],
   "source": []
  }
 ],
 "metadata": {
  "kernelspec": {
   "display_name": "Python 3",
   "language": "python",
   "name": "python3"
  },
  "language_info": {
   "codemirror_mode": {
    "name": "ipython",
    "version": 3
   },
   "file_extension": ".py",
   "mimetype": "text/x-python",
   "name": "python",
   "nbconvert_exporter": "python",
   "pygments_lexer": "ipython3",
   "version": "3.6.9"
  }
 },
 "nbformat": 4,
 "nbformat_minor": 4
}
