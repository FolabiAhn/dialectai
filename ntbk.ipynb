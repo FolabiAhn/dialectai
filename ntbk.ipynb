{
 "cells": [
  {
   "cell_type": "code",
   "execution_count": 1,
   "metadata": {},
   "outputs": [],
   "source": [
    "%load_ext autoreload\n",
    "%autoreload 2"
   ]
  },
  {
   "cell_type": "code",
   "execution_count": 2,
   "metadata": {},
   "outputs": [],
   "source": [
    "import os\n",
    "import csv\n",
    "import time\n",
    "import librosa\n",
    "\n",
    "import warnings\n",
    "import pandas as pd\n",
    "from models import *\n",
    "from utils import *\n",
    "import torch\n",
    "import torchaudio\n",
    "import numpy as np\n",
    "import torch.optim as optim\n",
    "\n",
    "warnings.filterwarnings('ignore')\n",
    "device = torch.device(\"cuda\" if torch.cuda.is_available() else \"cpu\")"
   ]
  },
  {
   "cell_type": "code",
   "execution_count": 3,
   "metadata": {},
   "outputs": [
    {
     "name": "stdout",
     "output_type": "stream",
     "text": [
      " ===== They are 800 transcriptions in the dataset. ===== \n",
      "CPU times: user 504 ms, sys: 137 ms, total: 641 ms\n",
      "Wall time: 921 ms\n"
     ]
    }
   ],
   "source": [
    "%%time \n",
    "\n",
    "limit = 80#None\n",
    "params = {'batch_size': 20,\n",
    "          'shuffle': True,\n",
    "          'num_workers': 10,\n",
    "          'drop_last': True}\n",
    "\n",
    "\n",
    "tokenizer = tokenizer_librispeech(limit=800)\n",
    "training_set = LibriSpeechDataset(limit=limit, tokenizer=tokenizer, n_frames=600)\n",
    "my_dataloader = data.DataLoader(training_set, **params)\n",
    "\n",
    "steps_per_epoch = len(training_set) // params['batch_size']\n",
    "\n",
    "vocab_tar_size = len(tokenizer.word_index)\n",
    "embedding_dim_target = 100"
   ]
  },
  {
   "cell_type": "code",
   "execution_count": null,
   "metadata": {
    "scrolled": false
   },
   "outputs": [],
   "source": [
    "%%time\n",
    "for i , data in enumerate(my_dataloader):\n",
    "    example_input_batch = data[0]\n",
    "    if i == 1:\n",
    "        break"
   ]
  },
  {
   "cell_type": "code",
   "execution_count": null,
   "metadata": {},
   "outputs": [],
   "source": [
    "# example_input_batch"
   ]
  },
  {
   "cell_type": "code",
   "execution_count": null,
   "metadata": {},
   "outputs": [],
   "source": [
    "example_input_batch = example_input_batch.to(device)\n",
    "encoder = EncoderCONV2DRNN(batch_size=params['batch_size'], device=device, hidden_size=512)\n",
    "encoder.to(device)\n",
    "# sample input\n",
    "#sample_hidden = encoder.initialize_hidden_state()\n",
    "#print(sample_hidden.shape)\n",
    "#sample_output, sample_hidden = encoder(example_input_batch, sample_hidden)\n",
    "#print ('Encoder output shape: (batch size, sequence length, units) {}'.format(sample_output.shape))\n",
    "#print ('Encoder Hidden state shape: (batch size, units) {}'.format(sample_hidden.shape))"
   ]
  },
  {
   "cell_type": "code",
   "execution_count": null,
   "metadata": {},
   "outputs": [],
   "source": [
    "sample_output, sample_hidden = encoder(example_input_batch)"
   ]
  },
  {
   "cell_type": "code",
   "execution_count": null,
   "metadata": {},
   "outputs": [],
   "source": []
  },
  {
   "cell_type": "code",
   "execution_count": null,
   "metadata": {},
   "outputs": [],
   "source": [
    "# torch.randint(1, 20, (batch_size, 1)).shape"
   ]
  },
  {
   "cell_type": "code",
   "execution_count": null,
   "metadata": {},
   "outputs": [],
   "source": [
    "#sample_hidden = encoder.last_state\n",
    "decoder = Decoder(vocab_tar_size, embedding_dim_target, 512, params['batch_size'], 512).to(device)\n",
    "\n",
    "sample_decoder_output, _, _ = decoder(torch.randint(1, 20, (params['batch_size'], 1), device=device),\n",
    "                                      sample_hidden, sample_output)\n",
    "\n",
    "print ('Decoder output shape: (batch_size, vocab size) {}'.format(sample_decoder_output.shape))"
   ]
  },
  {
   "cell_type": "code",
   "execution_count": 4,
   "metadata": {},
   "outputs": [],
   "source": [
    "#encoder = EncoderRNN(batch_size=batch_size, device=device, hidden_size=512).to(device)\n",
    "encoder = EncoderCONV2DRNN(batch_size=params['batch_size'], device=device, hidden_size=256).to(device)\n",
    "decoder = Decoder(vocab_tar_size, embedding_dim_target, 256, params['batch_size'], 256).to(device)\n",
    "\n",
    "encoder_optimizer = optim.Adam(encoder.parameters())\n",
    "decoder_optimizer = optim.Adam(decoder.parameters())\n",
    "\n",
    "criterion = nn.NLLLoss()"
   ]
  },
  {
   "cell_type": "code",
   "execution_count": 6,
   "metadata": {},
   "outputs": [],
   "source": []
  },
  {
   "cell_type": "code",
   "execution_count": 50,
   "metadata": {
    "scrolled": false
   },
   "outputs": [
    {
     "name": "stdout",
     "output_type": "stream",
     "text": [
      "Epoch 1: 100%|██████████| 4/4 [00:07<00:00,  1.99s/it, Loss 3.1340]\n",
      "Epoch 2: 100%|██████████| 4/4 [00:08<00:00,  2.04s/it, Loss 2.7996]\n"
     ]
    }
   ],
   "source": [
    "import sys\n",
    "import tqdm\n",
    "\n",
    "# Train the model\n",
    "EPOCHS = 2\n",
    "\n",
    "\n",
    "for epoch in range(EPOCHS):\n",
    "    #\n",
    "    start = time.time()\n",
    "    total_loss = 0\n",
    "    \n",
    "    \n",
    "    with tqdm.tqdm(total=len(my_dataloader), file=sys.stdout, leave=True, desc='Epoch ') as pbar:    \n",
    "        for batch, (inp, targ) in enumerate(my_dataloader):\n",
    "            \n",
    "            pbar.set_description('Epoch {}'.format(epoch + 1))\n",
    "\n",
    "    \n",
    "            inp, targ = inp.to(device), targ.to(device)\n",
    "            batch_loss = train_step(inp, targ, encoder, decoder, encoder_optimizer, decoder_optimizer,\n",
    "                                criterion, device, params['batch_size'], tokenizer)\n",
    "\n",
    "            total_loss += batch_loss\n",
    "            \n",
    "            pbar.set_postfix_str('Loss {:.4f}'.format(total_loss / (batch + 1)))\n",
    "            \n",
    "            pbar.update(1)\n",
    "            time.sleep(1)\n",
    "    \n",
    "            \n",
    "        # saving (checkpoint) the model every 2 epochs\n",
    "        #if (epoch + 1) % 2 == 0:\n",
    "        #    pass\n",
    "\n",
    "    #print('Epoch {} Loss {:.4f}'.format(epoch + 1, total_loss / steps_per_epoch))\n",
    "    #print('Time taken for 1 epoch {} sec\\n'.format(time.time() - start))"
   ]
  },
  {
   "cell_type": "code",
   "execution_count": null,
   "metadata": {},
   "outputs": [],
   "source": []
  }
 ],
 "metadata": {
  "kernelspec": {
   "display_name": "Python 3",
   "language": "python",
   "name": "python3"
  },
  "language_info": {
   "codemirror_mode": {
    "name": "ipython",
    "version": 3
   },
   "file_extension": ".py",
   "mimetype": "text/x-python",
   "name": "python",
   "nbconvert_exporter": "python",
   "pygments_lexer": "ipython3",
   "version": "3.6.9"
  }
 },
 "nbformat": 4,
 "nbformat_minor": 4
}
