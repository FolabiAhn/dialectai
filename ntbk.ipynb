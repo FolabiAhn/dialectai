{
 "cells": [
  {
   "cell_type": "code",
   "execution_count": 1,
   "metadata": {},
   "outputs": [],
   "source": [
    "%load_ext autoreload\n",
    "%autoreload 2"
   ]
  },
  {
   "cell_type": "code",
   "execution_count": 2,
   "metadata": {},
   "outputs": [],
   "source": [
    "import os\n",
    "import csv\n",
    "import time\n",
    "import librosa\n",
    "\n",
    "import warnings\n",
    "import pandas as pd\n",
    "from models import *\n",
    "from utils import *\n",
    "import torch\n",
    "import torchaudio\n",
    "import numpy as np\n",
    "import torch.optim as optim\n",
    "\n",
    "warnings.filterwarnings('ignore')\n",
    "device = torch.device(\"cuda\" if torch.cuda.is_available() else \"cpu\")"
   ]
  },
  {
   "cell_type": "code",
   "execution_count": 3,
   "metadata": {},
   "outputs": [
    {
     "name": "stdout",
     "output_type": "stream",
     "text": [
      " ===== They are 800 transcriptions in the dataset. ===== \n",
      "CPU times: user 506 ms, sys: 88.6 ms, total: 595 ms\n",
      "Wall time: 594 ms\n"
     ]
    }
   ],
   "source": [
    "%%time \n",
    "\n",
    "limit = 80\n",
    "params = {'batch_size': 20,\n",
    "          'shuffle': True,\n",
    "          'num_workers': 10,\n",
    "          'drop_last': True}\n",
    "\n",
    "\n",
    "tokenizer = tokenizer_librispeech(limit=800)\n",
    "training_set = LibriSpeechDataset(limit=limit, tokenizer=tokenizer, n_frames=600)\n",
    "my_dataloader = data.DataLoader(training_set, **params)\n",
    "\n",
    "steps_per_epoch = len(training_set) // params['batch_size']\n",
    "\n",
    "vocab_tar_size = len(tokenizer.word_index)\n",
    "embedding_dim_target = 100"
   ]
  },
  {
   "cell_type": "code",
   "execution_count": 4,
   "metadata": {},
   "outputs": [],
   "source": [
    "# 'bahdanau_basic'\n",
    "# 'bahdanau_audio'\n",
    "# 'luong_dot'\n",
    "# 'luong_concat'\n",
    "# 'luong_general'\n",
    "# 'super_head'"
   ]
  },
  {
   "cell_type": "code",
   "execution_count": 7,
   "metadata": {},
   "outputs": [],
   "source": [
    "encoder = EncoderCONV2DRNN(batch_size=params['batch_size'], device=device, hidden_size=64).to(device)\n",
    "decoder = DecoderATTRNN1(vocab_tar_size, embedding_dim_target, dec_units=64, batch_sz=params['batch_size'], \n",
    "                         hidden_size=64, method='bahdanau_basic').to(device)\n",
    "\n",
    "encoder_optimizer = optim.Adam(encoder.parameters())\n",
    "decoder_optimizer = optim.Adam(decoder.parameters())\n",
    "\n",
    "criterion = nn.NLLLoss()"
   ]
  },
  {
   "cell_type": "code",
   "execution_count": 8,
   "metadata": {
    "scrolled": false
   },
   "outputs": [
    {
     "name": "stdout",
     "output_type": "stream",
     "text": [
      " ====== ====== ====== ====== ====== ======\n",
      "      The model has 1809955 parameters\n",
      " ====== ====== ====== ====== ====== ======\n",
      "\n",
      "\n",
      "Epoch 1: 100%|████████████████████| 4/4 [00:07<00:00,  1.93s/it, Loss 8.1906]\n",
      "Epoch 2: 100%|████████████████████| 4/4 [00:07<00:00,  1.88s/it, Loss 7.7289]\n",
      "Epoch 3: 100%|████████████████████| 4/4 [00:07<00:00,  1.95s/it, Loss 7.1976]\n",
      "Epoch 4: 100%|████████████████████| 4/4 [00:07<00:00,  1.97s/it, Loss 6.6099]\n",
      "Epoch 5: 100%|████████████████████| 4/4 [00:07<00:00,  1.92s/it, Loss 6.0548]\n",
      "Epoch 6: 100%|████████████████████| 4/4 [00:07<00:00,  1.91s/it, Loss 5.6083]\n",
      "Epoch 7: 100%|████████████████████| 4/4 [00:07<00:00,  1.88s/it, Loss 5.2677]\n",
      "Epoch 8: 100%|████████████████████| 4/4 [00:07<00:00,  1.92s/it, Loss 5.0713]\n",
      "Epoch 9: 100%|████████████████████| 4/4 [00:07<00:00,  1.95s/it, Loss 4.9562]\n",
      "Epoch 10: 100%|████████████████████| 4/4 [00:07<00:00,  1.92s/it, Loss 4.8952]\n",
      "\n",
      "Time taken for the training 0.021459 hours\n",
      "\n"
     ]
    }
   ],
   "source": [
    "# Train the model\n",
    "global_trainer(10, my_dataloader, encoder, decoder, encoder_optimizer, decoder_optimizer,\n",
    "                                    criterion, device, params['batch_size'], tokenizer )"
   ]
  },
  {
   "cell_type": "code",
   "execution_count": null,
   "metadata": {},
   "outputs": [],
   "source": []
  },
  {
   "cell_type": "code",
   "execution_count": null,
   "metadata": {},
   "outputs": [],
   "source": [
    "mfccs, references = training_set[1]\n",
    "references = [tokenizer.index_word[ind] for ind in references.numpy()]\n",
    "evaluate(mfccs.unsqueeze(0), references, 40, encoder, decoder, targ_lang=tokenizer, \n",
    "          device=device, beam_search=True)"
   ]
  },
  {
   "cell_type": "code",
   "execution_count": null,
   "metadata": {},
   "outputs": [],
   "source": []
  },
  {
   "cell_type": "code",
   "execution_count": null,
   "metadata": {},
   "outputs": [],
   "source": [
    "A = torch.randn(20, 198, 1)\n",
    "m = torch.nn.Conv1d(198, 24, 5, padding=2)"
   ]
  },
  {
   "cell_type": "code",
   "execution_count": null,
   "metadata": {},
   "outputs": [],
   "source": [
    "m(A).shape"
   ]
  },
  {
   "cell_type": "code",
   "execution_count": null,
   "metadata": {},
   "outputs": [],
   "source": []
  },
  {
   "cell_type": "code",
   "execution_count": null,
   "metadata": {},
   "outputs": [],
   "source": []
  }
 ],
 "metadata": {
  "kernelspec": {
   "display_name": "Python 3",
   "language": "python",
   "name": "python3"
  },
  "language_info": {
   "codemirror_mode": {
    "name": "ipython",
    "version": 3
   },
   "file_extension": ".py",
   "mimetype": "text/x-python",
   "name": "python",
   "nbconvert_exporter": "python",
   "pygments_lexer": "ipython3",
   "version": "3.6.9"
  }
 },
 "nbformat": 4,
 "nbformat_minor": 4
}
